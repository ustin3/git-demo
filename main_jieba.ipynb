{
 "cells": [
  {
   "cell_type": "markdown",
   "id": "18d4e86d-886d-4390-9fd5-80fd510c315a",
   "metadata": {},
   "source": [
    "# 结巴分词实践"
   ]
  },
  {
   "cell_type": "markdown",
   "id": "9aee42ee-4b6e-475f-a122-78ae8fcb37e3",
   "metadata": {},
   "source": [
    "## 结巴分词的三种模式"
   ]
  },
  {
   "cell_type": "markdown",
   "id": "10fa57ca-7779-4434-b9a6-f844ff6205e1",
   "metadata": {},
   "source": [
    "### 全模式"
   ]
  },
  {
   "cell_type": "code",
   "execution_count": 15,
   "id": "f4d3f829-846b-4598-bc86-f643846ebccf",
   "metadata": {},
   "outputs": [
    {
     "name": "stdout",
     "output_type": "stream",
     "text": [
      "Full Mode: 我/ 来到/ 北京/ 清华/ 清华大学/ 华大/ 大学\n"
     ]
    }
   ],
   "source": [
    "import jieba\n",
    "seg_list = jieba.cut(\"我来到北京清华大学\", cut_all=True)\n",
    "print(\"Full Mode: \" + \"/ \".join(seg_list))  # 全模式"
   ]
  },
  {
   "cell_type": "markdown",
   "id": "91f6b19d-d67b-42a0-b850-9462b67a8e3c",
   "metadata": {},
   "source": [
    "### 精准模式"
   ]
  },
  {
   "cell_type": "code",
   "execution_count": 16,
   "id": "856a230d-3710-47c4-85e9-edfdfa50b417",
   "metadata": {},
   "outputs": [
    {
     "name": "stdout",
     "output_type": "stream",
     "text": [
      "Default Mode: 我/ 来到/ 北京/ 清华大学\n"
     ]
    }
   ],
   "source": [
    "import jieba\n",
    "seg_list = jieba.cut(\"我来到北京清华大学\", cut_all=False)\n",
    "print(\"Default Mode: \" + \"/ \".join(seg_list))  # 精确模式"
   ]{
 "cells": [
  {
   "cell_type": "markdown",
   "id": "3c161e8f-ff61-452a-ae50-ca4581522fb5",
   "metadata": {},
   "source": [
    "# 结巴分词实践"
   ]
  },
  {
   "cell_type": "markdown",
   "id": "3290bd5d-f60a-42e7-8354-d4a4820d02cf",
   "metadata": {},
   "source": [
    "## 结巴分词的三种模式"
   ]
  },
  {
   "cell_type": "code",
   "execution_count": 1,
   "id": "7e08de5a-6be0-4a06-86fb-efb9544299aa",
   "metadata": {},
   "outputs": [
    {
     "name": "stderr",
     "output_type": "stream",
     "text": [
      "Building prefix dict from the default dictionary ...\n",
      "Dumping model to file cache C:\\Users\\21932\\AppData\\Local\\Temp\\jieba.cache\n",
      "Loading model cost 1.249 seconds.\n",
      "Prefix dict has been built successfully.\n"
     ]
    },
    {
     "name": "stdout",
     "output_type": "stream",
     "text": [
      "精确模式：我/来到/北京/清华大学\n"
     ]
    }
   ],
   "source": [
    "import jieba\n",
    "sentence = \"我来到北京清华大学\"\n",
    "seg_list = jieba.cut(sentence, cut_all=False)\n",
    "print(\"精确模式：\" + \"/\".join(seg_list))"
   ]
  },
  {
   "cell_type": "code",
   "execution_count": 2,
   "id": "783bb52a-0e2d-4451-beae-05dc21597d57",
   "metadata": {},
   "outputs": [
    {
     "name": "stdout",
     "output_type": "stream",
     "text": [
      "全模式：我/来到/北京/清华/清华大学/华大/大学\n"
     ]
    }
   ],
   "source": [
    "seg_list = jieba.cut(sentence, cut_all=True)\n",
    "print(\"全模式：\" + \"/\".join(seg_list))"
   ]
  },
  {
   "cell_type": "code",
   "execution_count": 3,
   "id": "45713299-1edf-4156-aa0a-a59de3b46f51",
   "metadata": {},
   "outputs": [
    {
     "name": "stdout",
     "output_type": "stream",
     "text": [
      "搜索引擎模式：小明/硕士/毕业/于/中国/科学/学院/科学院/中国科学院/计算/计算所/，/后/在/日本/京都/大学/日本京都大学/深造\n"
     ]
    }
   ],
   "source": [
    "sentence = \"小明硕士毕业于中国科学院计算所，后在日本京都大学深造\"\n",
    "seg_list = jieba.cut_for_search(sentence)\n",
    "print(\"搜索引擎模式：\" + \"/\".join(seg_list))"
   ]
  },
  {
   "cell_type": "markdown",
   "id": "37e0dd81-6a4f-4a10-ba5d-26ad9737ae4c",
   "metadata": {},
   "source": [
    "## 载入词典"
   ]
  },
  {
   "cell_type": "code",
   "execution_count": 6,
   "id": "5b0f4c47-a9c1-4b84-ac6e-9154dba44654",
   "metadata": {},
   "outputs": [
    {
     "name": "stdout",
     "output_type": "stream",
     "text": [
      "自定义词典分词结果：何学文/即将/是/自然语言/处理/方面/的/高手/。\n"
     ]
    }
   ],
   "source": [
    "jieba.load_userdict(\"userdict.txt\")\n",
    "sentence = \"何学文即将是自然语言处理方面的高手。\"\n",
    "seg_list = jieba.cut(sentence, cut_all=False, HMM=False)\n",
    "print(\"自定义词典分词结果：\" + \"/\".join(seg_list))"
   ]
  },
  {
   "cell_type": "code",
   "execution_count": 7,
   "id": "3e1a4c8b-9216-4fb0-899a-e00a4b6efbeb",
   "metadata": {},
   "outputs": [
    {
     "name": "stdout",
     "output_type": "stream",
     "text": [
      "Top-5关键词： ['重点', '大学', '国家', '河北省', '共建']\n"
     ]
    }
   ],
   "source": [
    "from jieba import analyse\n",
    "textrank = analyse.textrank\n",
    "sentence = \"燕山大学是河北省人民政府、教育部、工业和信息化部、国家国防科技工业局四方共建的全国重点大学，河北省重点支持的国家一流大学和世界一流学科建设高校，北京高科大学联盟成员。\"\n",
    "keywords = textrank(sentence, topK=5)\n",
    "print(\"Top-5关键词：\", keywords)"
   ]
  }
 ],
 "metadata": {
  "kernelspec": {
   "display_name": "Python 3 (ipykernel)",
   "language": "python",
   "name": "python3"
  },
  "language_info": {
   "codemirror_mode": {
    "name": "ipython",
    "version": 3
   },
   "file_extension": ".py",
   "mimetype": "text/x-python",
   "name": "python",
   "nbconvert_exporter": "python",
   "pygments_lexer": "ipython3",
   "version": "3.9.21"
  }
 },
 "nbformat": 4,
 "nbformat_minor": 5
}
