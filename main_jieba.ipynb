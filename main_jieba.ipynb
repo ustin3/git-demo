{
 "cells": [
  {
   "cell_type": "markdown",
   "id": "f93c138a-cdef-41b5-be26-e1c56b2be682",
   "metadata": {},
   "source": [
    "# 结巴分词实践"
   ]
  },
  {
   "cell_type": "markdown",
   "id": "2491e079-50c1-4489-82a8-669bd53ed21e",
   "metadata": {},
   "source": [
    "## 结巴分词的三种模式"
   ]
  },
  {
   "cell_type": "markdown",
   "id": "4c9897d3-95d7-47f3-9129-cea800838398",
   "metadata": {},
   "source": [
    "### 全模式"
   ]
  },
  {
   "cell_type": "code",
   "execution_count": 10,
   "id": "6a5873ed-5932-4236-9199-c7e5bd13d836",
   "metadata": {},
   "outputs": [
    {
     "name": "stdout",
     "output_type": "stream",
     "text": [
      "Full Mode: 我/来到/北京/清华/清华大学/华大/大学\n"
     ]
    }
   ],
   "source": [
    "import jieba\n",
    "seg_list = jieba.cut(\"我来到北京清华大学\",cut_all=True)\n",
    "print(\"Full Mode: \" + \"/\".join(seg_list))    # 全模式"
   ]
  },
  {
   "cell_type": "markdown",
   "id": "7da63006-59f4-4b71-996a-83ed3ca731c9",
   "metadata": {},
   "source": [
    "### 精确模式"
   ]
  },
  {
   "cell_type": "code",
   "execution_count": 11,
   "id": "6d4c5498-ed36-4e22-bd5a-44880eb8e1d6",
   "metadata": {},
   "outputs": [
    {
     "name": "stdout",
     "output_type": "stream",
     "text": [
      "Default Mode: 我/来到/北京/清华大学\n"
     ]
    }
   ],
   "source": [
    "seg_list = jieba.cut(\"我来到北京清华大学\", cut_all=False)\n",
    "print(\"Default Mode: \" + \"/\".join(seg_list))    #精确模式"
   ]
  },
  {
   "cell_type": "markdown",
   "id": "4dccfdd9-78d9-4e7b-90fa-ed5ebc97d7be",
   "metadata": {},
   "source": [
    "### 搜索引擎模式"
   ]
  },
  {
   "cell_type": "code",
   "execution_count": 12,
   "id": "220a316b-b543-419d-93ac-e5c5c54aeac5",
   "metadata": {},
   "outputs": [
    {
     "name": "stdout",
     "output_type": "stream",
     "text": [
      "小明，硕士，毕业，于，中国，科学，学院，科学院，中国科学院，计算，计算所，，，后，在，日本，京都，大学，日本京都大学，深造\n"
     ]
    }
   ],
   "source": [
    "seg_list = jieba.cut_for_search (\"小明硕士毕业于中国科学院计算所，后在日本京都大学深造\")    # 搜索引擎模式\n",
    "print(\"，\".join(seg_list))"
   ]
  },
  {
   "cell_type": "markdown",
   "id": "89f42540-64ed-402a-9b5d-46fe65383f1f",
   "metadata": {},
   "source": [
    "## 载入词典"
   ]
  },
  {
   "cell_type": "code",
   "execution_count": 13,
   "id": "46c44ee3-37bc-45e3-8ec4-21d512d16c7e",
   "metadata": {},
   "outputs": [
    {
     "name": "stdout",
     "output_type": "stream",
     "text": [
      "Default Mode: 何学文/即将/是/自然语言/处理/方面/的/高手\n"
     ]
    }
   ],
   "source": [
    "jieba.load_userdict(\"userdict.txt\")\n",
    "seg_list = jieba.cut(\"何学文即将是自然语言处理方面的高手\", cut_all=False, HMM=False)\n",
    "print(\"Default Mode: \" + \"/\".join(seg_list))"
   ]
  },
  {
   "cell_type": "markdown",
   "id": "a40d129e-28bb-403d-b586-fdffbd081c93",
   "metadata": {},
   "source": [
    "## 关键词提取实践"
   ]
  },
  {
   "cell_type": "code",
   "execution_count": 15,
   "id": "1b605017-4717-46e4-a6fc-426541fa1e97",
   "metadata": {},
   "outputs": [
    {
     "name": "stdout",
     "output_type": "stream",
     "text": [
      "重点 1.0\n",
      "大学 0.9635631335578456\n",
      "国家 0.9273412563201143\n",
      "河北省 0.6235965850264276\n",
      "共建 0.5433775103953393\n",
      "全国 0.534102824188907\n",
      "信息化 0.523517756070117\n",
      "北京 0.5018327550761613\n",
      "一流 0.49871940909528095\n",
      "高校 0.4981734275744847\n",
      "支持 0.4341118682412674\n",
      "教育部 0.4010473038202727\n",
      "工业 0.39979771882365184\n",
      "世界 0.38446716337538744\n",
      "工业局 0.3566868934650074\n",
      "成员 0.2684723522599455\n",
      "['重点', '大学', '国家', '河北省', '共建']\n"
     ]
    }
   ],
   "source": [
    "import jieba.analyse\n",
    "s = \"燕山大学是河北省人民政府、教育部、工业和信息化部、国家国防科技工业局四方共建的全国重点大学，河北省重点支持的国家一流大学和世界一流学科建设高校，北京高科大学联盟成员。\"\n",
    "for x, w in jieba.analyse.textrank(s, withWeight=True):\n",
    "    print('%s %s' % (x, w))\n",
    "    \n",
    "seg_list = jieba.analyse.textrank(s, topK=5, withWeight=False, allowPOS=('ns', 'n', 'vn', 'v')) \n",
    "print(seg_list)"
   ]
  }
 ],
 "metadata": {
  "kernelspec": {
   "display_name": "Python 3 (ipykernel)",
   "language": "python",
   "name": "python3"
  },
  "language_info": {
   "codemirror_mode": {
    "name": "ipython",
    "version": 3
   },
   "file_extension": ".py",
   "mimetype": "text/x-python",
   "name": "python",
   "nbconvert_exporter": "python",
   "pygments_lexer": "ipython3",
   "version": "3.9.21"
  }
 },
 "nbformat": 4,
 "nbformat_minor": 5
}
